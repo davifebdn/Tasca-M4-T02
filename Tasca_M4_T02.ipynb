{
  "nbformat": 4,
  "nbformat_minor": 0,
  "metadata": {
    "colab": {
      "name": "Tasca M4 T02.ipynb",
      "provenance": [],
      "toc_visible": true,
      "authorship_tag": "ABX9TyNMcohuEFFA5dW/jcXh/md0",
      "include_colab_link": true
    },
    "kernelspec": {
      "name": "python3",
      "display_name": "Python 3"
    },
    "language_info": {
      "name": "python"
    }
  },
  "cells": [
    {
      "cell_type": "markdown",
      "metadata": {
        "id": "view-in-github",
        "colab_type": "text"
      },
      "source": [
        "<a href=\"https://colab.research.google.com/github/davifebdn/Tasca-M4-T02/blob/main/Tasca_M4_T02.ipynb\" target=\"_parent\"><img src=\"https://colab.research.google.com/assets/colab-badge.svg\" alt=\"Open In Colab\"/></a>"
      ]
    },
    {
      "cell_type": "markdown",
      "source": [
        "#Tasca M4 T02\n",
        "Visualització gràfica de múltiples variables."
      ],
      "metadata": {
        "id": "qotih-_iuwQM"
      }
    },
    {
      "cell_type": "code",
      "source": [
        ""
      ],
      "metadata": {
        "id": "nBw7PO-swdl3"
      },
      "execution_count": null,
      "outputs": []
    },
    {
      "cell_type": "markdown",
      "source": [
        "##Exercici 1\n",
        "\n",
        "Realitza la pràctica del notebook a GitHub \"03 EXAMINING DATA\" (fes una còpia i executa els comandaments amb el mateix dataset county.txt). Aquest exercici consisteix a observar les diferents possibilitats que ofereixen les diferents llibreries de visualització gràfica.\n",
        "\n",
        "[->03 EXAMINING DATA](https://github.com/BIDDL3/Examining-Data/blob/main/03%20EXAMINING%20DATA.ipynb)"
      ],
      "metadata": {
        "id": "Nv2P-S5ovMaM"
      }
    },
    {
      "cell_type": "markdown",
      "source": [
        "He descarregat l'arxiu i procedeixo a enganxar la pràctica i les dades."
      ],
      "metadata": {
        "id": "YLwEsq66v5ht"
      }
    }
  ]
}